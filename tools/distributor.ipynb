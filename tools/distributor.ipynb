{
 "cells": [
  {
   "cell_type": "code",
   "execution_count": null,
   "metadata": {},
   "outputs": [],
   "source": [
    "environ_types = [\n",
    "    \"urban\",\n",
    "    \"grassland\",\n",
    "    \"forest\",\n",
    "    \"rural\"\n",
    "    \"cave\",\n",
    "    \"diglett_cave\",\n",
    "    \"moon_cave\"\n",
    "    \"ice_cave\",\n",
    "    \"rock_cave\",\n",
    "    \"fire_cave\",\n",
    "    \"seaside\",\n",
    "    \"island\",\n",
    "    \"ghost_tower\",\n",
    "    \"fire_mansion\",\n",
    "    \"electric_plant\",\n",
    "    \"epic_cave\",\n",
    "    \"unown_cave\",\n",
    "    \"na\"\n",
    "]\n",
    "water_types = [\n",
    "    \"ocean\",\n",
    "    \"river\",\n",
    "    \"ponds\",\n",
    "    \"coastal\",\n",
    "    \"cave\",\n",
    "    \"na\"\n",
    "]\n",
    "regions = [\n",
    "    \"east\",\n",
    "    \"west\",\n",
    "    \"north\",\n",
    "    \"south\",\n",
    "    \"inland\",\n",
    "    \"all\"\n",
    "]"
   ]
  },
  {
   "cell_type": "code",
   "execution_count": 1,
   "metadata": {},
   "outputs": [],
   "source": [
    "import json\n",
    "import os\n",
    "import random\n",
    "import copy"
   ]
  },
  {
   "cell_type": "code",
   "execution_count": 31,
   "metadata": {},
   "outputs": [],
   "source": [
    "def get_baseline_pokemon():\n",
    "    fp = \"C:\\\\projects\\\\pokefirered\\\\tools\\\\baseline_pokemon.txt\"\n",
    "    with open(fp, \"r\") as f:\n",
    "        baseline_pokemon = f.read().splitlines()\n",
    "    return baseline_pokemon\n",
    "\n",
    "def get_list_diff(list1, list2):\n",
    "    return list(set(list1) - set(list2))\n",
    "\n",
    "def get_wild_encounters():\n",
    "    fp = \"C:\\\\projects\\\\pokefirered\\\\src\\\\data\\\\wild_encounters.json\"\n",
    "    with open(fp, \"r\") as f:\n",
    "        wild_encounters = json.load(f)\n",
    "    return wild_encounters\n",
    "\n",
    "def get_maps():\n",
    "    fp = \"C:\\\\projects\\\\pokefirered\\\\tools\\\\maps.json\"\n",
    "    with open(fp, \"r\") as f:\n",
    "        maps = json.load(f)\n",
    "    return maps\n",
    "\n",
    "def get_pokemon():\n",
    "    fp = \"C:\\\\projects\\\\pokefirered\\\\tools\\\\pokemon.json\"\n",
    "    with open(fp, \"r\") as f:\n",
    "        pokemon = json.load(f)\n",
    "    return pokemon\n",
    "\n",
    "def get_firered_pokemon():\n",
    "    current_pokes = []\n",
    "    we = get_wild_encounters()\n",
    "    encounters = we[\"wild_encounter_groups\"][0][\"encounters\"]\n",
    "    for e in encounters:\n",
    "        if \"FireRed\" in e[\"base_label\"]:\n",
    "            if \"land_mons\" in e:\n",
    "                for m in e[\"land_mons\"][\"mons\"]:\n",
    "                    if m[\"species\"] not in current_pokes:\n",
    "                        current_pokes.append(m[\"species\"])\n",
    "            if \"water_mons\" in e:\n",
    "                for m in e[\"water_mons\"][\"mons\"]:\n",
    "                    if m[\"species\"] not in current_pokes:\n",
    "                        current_pokes.append(m[\"species\"])\n",
    "            if \"fishing_mons\" in e:\n",
    "                for m in e[\"fishing_mons\"][\"mons\"]:\n",
    "                    if m[\"species\"] not in current_pokes:\n",
    "                        current_pokes.append(m[\"species\"])\n",
    "            if \"rock_smash_mons\" in e:\n",
    "                for m in e[\"rock_smash_mons\"][\"mons\"]:\n",
    "                    if m[\"species\"] not in current_pokes:\n",
    "                        current_pokes.append(m[\"species\"])\n",
    "    return current_pokes\n",
    "                    "
   ]
  },
  {
   "cell_type": "code",
   "execution_count": 38,
   "metadata": {},
   "outputs": [],
   "source": [
    "missing_pokes = get_list_diff(get_baseline_pokemon(), get_firered_pokemon())"
   ]
  },
  {
   "cell_type": "code",
   "execution_count": 39,
   "metadata": {},
   "outputs": [
    {
     "data": {
      "text/plain": [
       "['SPECIES_CELEBI']"
      ]
     },
     "execution_count": 39,
     "metadata": {},
     "output_type": "execute_result"
    }
   ],
   "source": [
    "missing_pokes"
   ]
  },
  {
   "cell_type": "code",
   "execution_count": null,
   "metadata": {},
   "outputs": [],
   "source": []
  }
 ],
 "metadata": {
  "kernelspec": {
   "display_name": "Python 3",
   "language": "python",
   "name": "python3"
  },
  "language_info": {
   "codemirror_mode": {
    "name": "ipython",
    "version": 3
   },
   "file_extension": ".py",
   "mimetype": "text/x-python",
   "name": "python",
   "nbconvert_exporter": "python",
   "pygments_lexer": "ipython3",
   "version": "3.11.5"
  }
 },
 "nbformat": 4,
 "nbformat_minor": 2
}
