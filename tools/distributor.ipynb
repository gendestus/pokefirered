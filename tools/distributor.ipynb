{
 "cells": [
  {
   "cell_type": "code",
   "execution_count": null,
   "metadata": {},
   "outputs": [],
   "source": [
    "environ_types = [\n",
    "    \"urban\",\n",
    "    \"grassland\",\n",
    "    \"forest\",\n",
    "    \"rural\"\n",
    "    \"cave\",\n",
    "    \"diglett_cave\",\n",
    "    \"moon_cave\"\n",
    "    \"ice_cave\",\n",
    "    \"rock_cave\",\n",
    "    \"fire_cave\",\n",
    "    \"seaside\",\n",
    "    \"island\",\n",
    "    \"ghost_tower\",\n",
    "    \"fire_mansion\",\n",
    "    \"electric_plant\",\n",
    "    \"epic_cave\",\n",
    "    \"unown_cave\",\n",
    "    \"na\"\n",
    "]\n",
    "water_types = [\n",
    "    \"ocean\",\n",
    "    \"river\",\n",
    "    \"ponds\",\n",
    "    \"coastal\",\n",
    "    \"cave\",\n",
    "    \"default\",\n",
    "    \"na\"\n",
    "]\n",
    "regions = [\n",
    "    \"east\",\n",
    "    \"west\",\n",
    "    \"north\",\n",
    "    \"south\",\n",
    "    \"inland\",\n",
    "    \"all\"\n",
    "]"
   ]
  },
  {
   "cell_type": "code",
   "execution_count": 21,
   "metadata": {},
   "outputs": [],
   "source": [
    "import json\n",
    "import os\n",
    "import random\n",
    "from collections import defaultdict"
   ]
  },
  {
   "cell_type": "code",
   "execution_count": 13,
   "metadata": {},
   "outputs": [],
   "source": [
    "data_path = \"C:\\\\projects\\\\pokefirered\\\\tools\\\\\"\n",
    "data_filename = \"baseline_pokemon.txt\"\n",
    "output_filename = \"pokemon.json\"\n",
    "with open(os.path.join(data_path, data_filename), \"r\") as f:\n",
    "    data = f.read().split(\"\\n\")\n",
    "\n",
    "with open(os.path.join(data_path, output_filename), \"w\") as f:\n",
    "    species_dict = {}\n",
    "    for species in data:\n",
    "        s = {\n",
    "            \"environ\": [\"na\"],\n",
    "            \"water\": [\"na\"],\n",
    "            \"regions\": [\"all\"]\n",
    "        }\n",
    "        species_dict[species] = s\n",
    "    json.dump(species_dict, f, indent=4)"
   ]
  },
  {
   "cell_type": "code",
   "execution_count": 17,
   "metadata": {},
   "outputs": [],
   "source": [
    "encounter_path = \"C:\\\\projects\\\\pokefirered\\\\src\\\\data\"\n",
    "encounter_filename = \"wild_encounters.json\"\n",
    "\n",
    "maps = []\n",
    "\n",
    "with open(os.path.join(encounter_path, encounter_filename), \"r\") as f:\n",
    "    encounters = json.load(f)\n",
    "for e in encounters[\"wild_encounter_groups\"][0][\"encounters\"]:\n",
    "    if e[\"map\"] not in maps:\n",
    "        maps.append(e[\"map\"])"
   ]
  },
  {
   "cell_type": "code",
   "execution_count": 20,
   "metadata": {},
   "outputs": [],
   "source": [
    "with open(os.path.join(data_path, \"maps.json\"), \"r\") as f:\n",
    "    maps = json.load(f)"
   ]
  },
  {
   "cell_type": "code",
   "execution_count": null,
   "metadata": {},
   "outputs": [],
   "source": [
    "def get_available_monsters(monsters, maps):\n",
    "    available_land_mons = {}\n",
    "    available_water_mons = {}\n",
    "\n",
    "    for p in monsters:\n",
    "        if \"na\" not in p[\"environ\"]:\n",
    "            for e in p[\"environ\"]:\n",
    "                if e not in available_land_mons:\n",
    "                    available_land_mons[e] = []\n",
    "                available_land_mons[e].append(p[\"name\"])\n",
    "        if \"na\" not in p[\"water\"]:\n",
    "            for w in p[\"water\"]:\n",
    "                if w not in available_water_mons:\n",
    "                    available_water_mons[w] = []\n",
    "                available_water_mons[w].append(p[\"name\"])\n",
    "    \n",
    "    return (available_land_mons, available_water_mons)\n",
    "\n"
   ]
  },
  {
   "cell_type": "code",
   "execution_count": 44,
   "metadata": {},
   "outputs": [],
   "source": [
    "p_filename = os.path.join(data_path, \"pokemon.json\")\n",
    "m_filename = os.path.join(data_path, \"maps.json\")\n",
    "\n",
    "\n",
    "def jsondict2list(filename) -> list:\n",
    "    with open(filename, \"r\") as f:\n",
    "        data = json.load(f)\n",
    "        l = []\n",
    "        for k, v in data.items():\n",
    "            v[\"name\"] = k\n",
    "            l.append(v)\n",
    "    return l"
   ]
  },
  {
   "cell_type": "code",
   "execution_count": 45,
   "metadata": {},
   "outputs": [],
   "source": [
    "p_list = jsondict2list(p_filename)\n",
    "m_list = jsondict2list(m_filename)"
   ]
  },
  {
   "cell_type": "code",
   "execution_count": 46,
   "metadata": {},
   "outputs": [],
   "source": [
    "(land, water) = distribute_monsters(p_list, m_list)"
   ]
  },
  {
   "cell_type": "code",
   "execution_count": 34,
   "metadata": {},
   "outputs": [
    {
     "name": "stdout",
     "output_type": "stream",
     "text": [
      "171\n",
      "173\n"
     ]
    }
   ],
   "source": [
    "mons = []\n",
    "for k, v in land.items():\n",
    "    for m in v:\n",
    "        if m[\"name\"] not in mons:\n",
    "            mons.append(m[\"name\"])\n",
    "for k, v in water.items():\n",
    "    for m in v:\n",
    "        if m[\"name\"] not in mons:\n",
    "            mons.append(m[\"name\"])\n",
    "print(len(mons))\n",
    "print(len(p_list))"
   ]
  },
  {
   "cell_type": "code",
   "execution_count": 47,
   "metadata": {},
   "outputs": [
    {
     "data": {
      "text/plain": [
       "21"
      ]
     },
     "execution_count": 47,
     "metadata": {},
     "output_type": "execute_result"
    }
   ],
   "source": [
    "len(land[\"forest\"])"
   ]
  },
  {
   "cell_type": "code",
   "execution_count": null,
   "metadata": {},
   "outputs": [],
   "source": []
  }
 ],
 "metadata": {
  "kernelspec": {
   "display_name": "Python 3",
   "language": "python",
   "name": "python3"
  },
  "language_info": {
   "codemirror_mode": {
    "name": "ipython",
    "version": 3
   },
   "file_extension": ".py",
   "mimetype": "text/x-python",
   "name": "python",
   "nbconvert_exporter": "python",
   "pygments_lexer": "ipython3",
   "version": "3.11.5"
  }
 },
 "nbformat": 4,
 "nbformat_minor": 2
}
