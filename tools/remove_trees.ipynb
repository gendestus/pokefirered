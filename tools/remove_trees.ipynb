{
 "cells": [
  {
   "cell_type": "code",
   "execution_count": 2,
   "metadata": {},
   "outputs": [],
   "source": [
    "import json\n",
    "import os"
   ]
  },
  {
   "cell_type": "code",
   "execution_count": 7,
   "metadata": {},
   "outputs": [],
   "source": [
    "fp = \"C:\\\\projects\\\\pokefirered\\\\data\\\\maps\""
   ]
  },
  {
   "cell_type": "code",
   "execution_count": 8,
   "metadata": {},
   "outputs": [],
   "source": [
    "# use a dirwalk to find all the map.json files\n",
    "maps = []\n",
    "for root, dirs, files in os.walk(fp):\n",
    "    for file in files:\n",
    "        if file == \"map.json\":\n",
    "            maps.append(os.path.join(root, file))"
   ]
  },
  {
   "cell_type": "code",
   "execution_count": 10,
   "metadata": {},
   "outputs": [],
   "source": [
    "tree_id = \"OBJ_EVENT_GFX_CUT_TREE\""
   ]
  },
  {
   "cell_type": "code",
   "execution_count": 18,
   "metadata": {},
   "outputs": [],
   "source": [
    "for m in maps:\n",
    "    with open(m, \"r\", encoding=\"utf8\") as f:\n",
    "        map_data = json.load(f)\n",
    "    new_object_events = []\n",
    "    for oe in map_data[\"object_events\"]:\n",
    "        if oe[\"graphics_id\"] != tree_id:\n",
    "            new_object_events.append(oe)\n",
    "    \n",
    "    map_data[\"object_events\"] = new_object_events\n",
    "    with open(m, \"w\", encoding=\"utf8\") as f:\n",
    "        json.dump(map_data, f, indent=4)\n",
    "        "
   ]
  },
  {
   "cell_type": "code",
   "execution_count": null,
   "metadata": {},
   "outputs": [],
   "source": []
  }
 ],
 "metadata": {
  "kernelspec": {
   "display_name": "Python 3",
   "language": "python",
   "name": "python3"
  },
  "language_info": {
   "codemirror_mode": {
    "name": "ipython",
    "version": 3
   },
   "file_extension": ".py",
   "mimetype": "text/x-python",
   "name": "python",
   "nbconvert_exporter": "python",
   "pygments_lexer": "ipython3",
   "version": "3.11.3"
  }
 },
 "nbformat": 4,
 "nbformat_minor": 2
}
