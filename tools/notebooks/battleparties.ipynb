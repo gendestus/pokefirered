{
 "cells": [
  {
   "cell_type": "code",
   "execution_count": 200,
   "metadata": {},
   "outputs": [],
   "source": [
    "trainer_party_fp = \"../src/data/trainer_parties.h\""
   ]
  },
  {
   "cell_type": "code",
   "execution_count": 201,
   "metadata": {},
   "outputs": [],
   "source": [
    "import re\n",
    "import random"
   ]
  },
  {
   "cell_type": "code",
   "execution_count": 213,
   "metadata": {},
   "outputs": [],
   "source": [
    "with open(trainer_party_fp, \"r\") as f:\n",
    "    tp_source = f.read()"
   ]
  },
  {
   "cell_type": "code",
   "execution_count": 214,
   "metadata": {},
   "outputs": [],
   "source": [
    "start_token = \"// Start of actual trainer data\"\n",
    "start_index = tp_source.find(start_token) + len(start_token) + 1"
   ]
  },
  {
   "cell_type": "code",
   "execution_count": 215,
   "metadata": {},
   "outputs": [
    {
     "name": "stdout",
     "output_type": "stream",
     "text": [
      "654\n",
      "509\n"
     ]
    }
   ],
   "source": [
    "parties = tp_source[start_index:].split(\";\\n\")\n",
    "print(len(parties))\n",
    "to_remove = []\n",
    "for p in parties:\n",
    "    if \"DUMMY\" in p:\n",
    "        to_remove.append(p)\n",
    "    if \"CustomMoves\" in p:\n",
    "        to_remove.append(p)\n",
    "    if \"Rival\" in p:\n",
    "        to_remove.append(p)\n",
    "for r in to_remove:\n",
    "    if r in parties:\n",
    "        parties.remove(r)\n",
    "print(len(parties))"
   ]
  },
  {
   "cell_type": "code",
   "execution_count": 205,
   "metadata": {},
   "outputs": [],
   "source": [
    "def extract_species(party: str) -> list:\n",
    "    species = []\n",
    "    start_index = party.find(\"SPECIES\")\n",
    "    while start_index != -1:\n",
    "        comma_index = party.find(\",\", start_index)\n",
    "        species.append(party[start_index:comma_index])\n",
    "        start_index = party.find(\"SPECIES\", start_index + 1)\n",
    "    return species\n",
    "\n",
    "def get_num_species(party: str) -> int:\n",
    "    return party.count(\"SPECIES\")\n",
    "\n",
    "def get_avg_level(party: str) -> int:\n",
    "    level_token = \".lvl = \"\n",
    "    level_sum = 0\n",
    "    level_count = 0\n",
    "    start_index = party.find(level_token)\n",
    "    while start_index != -1:\n",
    "        end_index = party.find(\",\", start_index)\n",
    "        level_sum += int(party[start_index + len(level_token):end_index])\n",
    "        start_index = party.find(level_token, start_index + 1)\n",
    "        level_count += 1\n",
    "    return int(level_sum / level_count)\n",
    "\n",
    "def get_moves_type(party: str) -> str:\n",
    "    default_moves_token = \"DefaultMoves\"\n",
    "    if default_moves_token in party:\n",
    "        return \"default\"\n",
    "    return \"custom\""
   ]
  },
  {
   "cell_type": "code",
   "execution_count": 212,
   "metadata": {},
   "outputs": [],
   "source": [
    "def get_compatible_pokemon(party_type: str, avg_level: int, file_path: str = \"trainer_source_list.txt\") -> list: \n",
    "    with open(file_path, \"r\") as f:\n",
    "        source_list = f.read()\n",
    "    start_index_token = f\"[{party_type.capitalize()}]\\n\"\n",
    "    start_index = source_list.find(start_index_token)\n",
    "    if start_index == -1:\n",
    "        print(f\"Error: {party_type} not found in source list\")\n",
    "        return []\n",
    "    end_index = source_list.find(\"\\n\\n\", start_index)\n",
    "    source_list = source_list[start_index+len(start_index_token):end_index].split(\"\\n\")\n",
    "    species = []\n",
    "    for s in source_list:\n",
    "        (name, level) = s.split(\"|\")\n",
    "        if int(level) <= avg_level:\n",
    "            species.append(f\"SPECIES_{name.upper()}\")\n",
    "    return species\n",
    "\n",
    "def get_amount_new_pokemon(party: str) -> int:\n",
    "    current_amount = get_num_species(party)\n",
    "    max_additions = 6 - current_amount\n",
    "    return random.randint(0, max_additions)\n",
    "\n",
    "def get_random_level(avg_level: int) -> int:\n",
    "    level = random.randint(avg_level - 5, avg_level + 5)\n",
    "    if level < 1:\n",
    "        return 1\n",
    "    if level > 100:\n",
    "        return 100\n",
    "    return level\n",
    "\n",
    "def identify_party_type(party: str) -> str:\n",
    "    id_list_fp = \"trainer_id_list.txt\"\n",
    "    with open(id_list_fp, \"r\") as f:\n",
    "        id_list = f.read()\n",
    "    \n",
    "    trainer_id_pokes = {}\n",
    "    trainer_id_scores = {}\n",
    "    labels = re.findall(r\"\\[.*\\]\", id_list)\n",
    "    for l in labels:\n",
    "        trainer_id_scores[l[1:-1]] = 0\n",
    "        start_index_token = f\"{l}\\n\"\n",
    "        start_index = id_list.find(start_index_token)\n",
    "        end_index = id_list.find(\"\\n\\n\", start_index)\n",
    "        source_list = id_list[start_index+len(start_index_token):end_index].split(\"\\n\")\n",
    "        species = []\n",
    "        for s in source_list:\n",
    "            species.append(f\"SPECIES_{s.upper()}\")\n",
    "        trainer_id_pokes[l[1:-1]] = species\n",
    "    current_pokes = extract_species(party)\n",
    "    for p in current_pokes:\n",
    "        for k, v in trainer_id_pokes.items():\n",
    "            if p in v:\n",
    "                trainer_id_scores[k] += 1\n",
    "    max_score = 0\n",
    "    max_key = \"\"\n",
    "    for k, v in trainer_id_scores.items():\n",
    "        if v > max_score:\n",
    "            max_score = v\n",
    "            max_key = k\n",
    "    if max_key == \"\":\n",
    "        return None\n",
    "    return max_key\n",
    "\n",
    "def random_pokemon(party_type: str, avg_level: int):\n",
    "    species_list = get_compatible_pokemon(party_type, avg_level)\n",
    "    species = random.choice(species_list)\n",
    "    level = get_random_level(avg_level)\n",
    "    return (species, level)\n",
    "\n",
    "def build_pokemon(species: str, level: int) -> str:\n",
    "    iv = random.randint(0, 31)\n",
    "    return f\"{{ \\n    .iv = {iv},\\n    .lvl = {level},\\n    .species = {species},\\n }}\"\n",
    "\n",
    "def regenerate_party(party: str) -> str:\n",
    "    avg_level = get_avg_level(party)\n",
    "    party_type = identify_party_type(party)\n",
    "    if party_type is None:\n",
    "        return party + \";\"\n",
    "    num_pokes = get_amount_new_pokemon(party) + get_num_species(party)\n",
    "    new_party = party.split(\" = \")[0] + \" = {\"\n",
    "    for i in range(num_pokes):\n",
    "        species, level = random_pokemon(party_type, avg_level)\n",
    "        new_party += f\"\\n    {build_pokemon(species, level)},\"\n",
    "    new_party = new_party[:-1] + \"\\n};\"\n",
    "    return new_party\n",
    "\n",
    "def get_party_header(party: str) -> str:\n",
    "    return party.split(\" = \")[0]\n",
    "\n",
    "def replace_party(new_party: str, party_code: str) -> str:\n",
    "    header = get_party_header(new_party)\n",
    "    header_index = party_code.find(header)\n",
    "    end_index = party_code.find(\"};\", header_index)\n",
    "    first_chunk = party_code[:header_index]\n",
    "    second_chunk = party_code[end_index + 2:]\n",
    "    party_code = first_chunk + new_party + second_chunk\n",
    "    return party_code\n"
   ]
  },
  {
   "cell_type": "code",
   "execution_count": 216,
   "metadata": {},
   "outputs": [],
   "source": [
    "for party in parties:\n",
    "    if party == \"\":\n",
    "        continue\n",
    "    new_party = regenerate_party(party)\n",
    "    tp_source = replace_party(new_party, tp_source)"
   ]
  },
  {
   "cell_type": "code",
   "execution_count": 217,
   "metadata": {},
   "outputs": [
    {
     "name": "stdout",
     "output_type": "stream",
     "text": [
      "\n",
      "static const struct TrainerMonItemDefaultMoves sParty_LadyJacki[] = {\n",
      "    {\n",
      "        .iv = 0,\n",
      "        .lvl = 48,\n",
      "        .species = SPECIES_HOPPIP,\n",
      "        .heldItem = ITEM_STARDUST,\n",
      "    },\n",
      "    {\n",
      "        .iv = 0,\n",
      "        .lvl = 50,\n",
      "        .species = SPECIES_SKIPLOOM,\n",
      "        .heldItem = ITEM_STARDUST,\n",
      "    },\n",
      "}\n",
      "static const struct TrainerMonNoItemDefaultMoves sParty_YoungsterBen[] = {\n",
      "    {\n",
      "        .iv = 0,\n",
      "        .lvl = 11,\n",
      "        .species = SPECIES_RATTATA,\n",
      "    },\n",
      "    {\n",
      "        .iv = 0,\n",
      "        .lvl = 11,\n",
      "        .species = SPECIES_EKANS,\n",
      "    },\n",
      "}\n"
     ]
    }
   ],
   "source": [
    "for p in parties:\n",
    "    if \"Jacki\" in p:\n",
    "        print(p)\n",
    "print(parties[0])"
   ]
  },
  {
   "cell_type": "code",
   "execution_count": 218,
   "metadata": {},
   "outputs": [],
   "source": [
    "with open(trainer_party_fp, \"w\") as f:\n",
    "    f.write(tp_source)"
   ]
  },
  {
   "cell_type": "code",
   "execution_count": null,
   "metadata": {},
   "outputs": [],
   "source": [
    "all_species = []\n",
    "default_moves_parties = 0\n",
    "for party in parties:\n",
    "    moves_type = get_moves_type(party)\n",
    "    species = extract_species(party)\n",
    "    if moves_type == \"default\":\n",
    "        default_moves_parties += 1\n",
    "    for s in species:\n",
    "        if s not in all_species:\n",
    "            all_species.append(s)"
   ]
  },
  {
   "cell_type": "code",
   "execution_count": 34,
   "metadata": {},
   "outputs": [
    {
     "data": {
      "text/plain": [
       "536"
      ]
     },
     "execution_count": 34,
     "metadata": {},
     "output_type": "execute_result"
    }
   ],
   "source": [
    "default_moves_parties"
   ]
  },
  {
   "cell_type": "code",
   "execution_count": 52,
   "metadata": {},
   "outputs": [
    {
     "data": {
      "text/plain": [
       "['SPECIES_MANKEY',\n",
       " 'SPECIES_MACHOP',\n",
       " 'SPECIES_AIPOM',\n",
       " 'SPECIES_TEDDIURSA',\n",
       " 'SPECIES_TYROGUE',\n",
       " 'SPECIES_SLAKOTH',\n",
       " 'SPECIES_MAKUHITA',\n",
       " 'SPECIES_MEDITITE']"
      ]
     },
     "execution_count": 52,
     "metadata": {},
     "output_type": "execute_result"
    }
   ],
   "source": [
    "get_compatible_pokemon(\"fighter\", 1)"
   ]
  },
  {
   "cell_type": "code",
   "execution_count": 73,
   "metadata": {},
   "outputs": [
    {
     "data": {
      "text/plain": [
       "3"
      ]
     },
     "execution_count": 73,
     "metadata": {},
     "output_type": "execute_result"
    }
   ],
   "source": [
    "get_amount_new_pokemon(parties[0])"
   ]
  },
  {
   "cell_type": "code",
   "execution_count": null,
   "metadata": {},
   "outputs": [],
   "source": []
  }
 ],
 "metadata": {
  "kernelspec": {
   "display_name": "Python 3",
   "language": "python",
   "name": "python3"
  },
  "language_info": {
   "codemirror_mode": {
    "name": "ipython",
    "version": 3
   },
   "file_extension": ".py",
   "mimetype": "text/x-python",
   "name": "python",
   "nbconvert_exporter": "python",
   "pygments_lexer": "ipython3",
   "version": "3.11.5"
  }
 },
 "nbformat": 4,
 "nbformat_minor": 2
}
